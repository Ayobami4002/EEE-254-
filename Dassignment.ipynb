{
 "cells": [
  {
   "cell_type": "markdown",
   "id": "ae6421c1",
   "metadata": {},
   "source": [
    "# Finding the cube root of a number"
   ]
  },
  {
   "cell_type": "code",
   "execution_count": 1,
   "id": "d478d922",
   "metadata": {},
   "outputs": [
    {
     "name": "stdout",
     "output_type": "stream",
     "text": [
      "enter an integer: 7\n",
      "7 is not a perfect cube\n",
      "cube of 7 is 2\n"
     ]
    }
   ],
   "source": [
    "x=int(input(\"enter an integer: \"))\n",
    "ans=0\n",
    "while ans**3 <abs(x):\n",
    "    ans=ans+1\n",
    "if ans**3 !=abs(x):\n",
    "    print(x, \"is not a perfect cube\")\n",
    "else:\n",
    "    if x<0:\n",
    "        ans=-ans\n",
    "print(\"cube of\",x,\"is\", ans)"
   ]
  },
  {
   "cell_type": "markdown",
   "id": "dd0de5b1",
   "metadata": {},
   "source": [
    "## Testing if a number is prime"
   ]
  },
  {
   "cell_type": "code",
   "execution_count": 4,
   "id": "f6f85583",
   "metadata": {},
   "outputs": [
    {
     "name": "stdout",
     "output_type": "stream",
     "text": [
      "enter integer greater than 2: 127\n",
      "127 is a prime no\n"
     ]
    }
   ],
   "source": [
    "num=int(input(\"enter integer greater than 2: \"))\n",
    "smallest_divisor= None\n",
    "for guess in range(2,num):\n",
    "    if num%guess==0:\n",
    "        smallest_divisor= guess\n",
    "        break\n",
    "if smallest_divisor != None:\n",
    "    print (\"smallest divisor of\", num, \"is\", smallest_divisor)\n",
    "else:\n",
    "    print(num,\"is a prime no\")"
   ]
  },
  {
   "cell_type": "markdown",
   "id": "c3762d03",
   "metadata": {},
   "source": [
    "##   Testing if an integer>2 is a prime  "
   ]
  },
  {
   "cell_type": "code",
   "execution_count": 9,
   "id": "7856f6b8",
   "metadata": {},
   "outputs": [
    {
     "name": "stdout",
     "output_type": "stream",
     "text": [
      "enter integer greater than 2: 190\n",
      "smallest divisor of 190 is 2\n"
     ]
    }
   ],
   "source": [
    "num=int(input(\"enter integer greater than 2: \"))\n",
    "smallest_divisor= None\n",
    "if num%2==0:\n",
    "        smallest_divisor= 2\n",
    "else:\n",
    "        for guess in range(3,num,2):\n",
    "            if num%guess==0:\n",
    "                smallest_divisor=guess\n",
    "                break\n",
    "if smallest_divisor != None:\n",
    "    print (\"smallest divisor of\", num, \"is\", smallest_divisor)\n",
    "else:\n",
    "    print(num,\"is a prime no\")"
   ]
  },
  {
   "cell_type": "markdown",
   "id": "e968e3d6",
   "metadata": {},
   "source": [
    "## Approximation section"
   ]
  },
  {
   "cell_type": "code",
   "execution_count": 10,
   "id": "d41cec49",
   "metadata": {},
   "outputs": [
    {
     "name": "stdout",
     "output_type": "stream",
     "text": [
      "num of guesses=  3513631\n",
      "failed on squareroot of  123456\n"
     ]
    }
   ],
   "source": [
    "num=123456\n",
    "epsilon= 0.01\n",
    "step = epsilon**2\n",
    "num_guesses=0\n",
    "ans=0.0\n",
    "while abs(ans**2 -num)>=epsilon and ans*ans <=num :\n",
    "    ans +=step\n",
    "    num_guesses +=1\n",
    "print (\"num of guesses= \", num_guesses)\n",
    "if abs (ans**2 - num)>=epsilon:\n",
    "    print(\"failed on squareroot of \",num)\n",
    "else:\n",
    "    print(ans,\"is close to squareroot of\" ,num)\n",
    "    "
   ]
  },
  {
   "cell_type": "code",
   "execution_count": 11,
   "id": "90998405",
   "metadata": {},
   "outputs": [
    {
     "name": "stdout",
     "output_type": "stream",
     "text": [
      "low=1 0 high= 123456 ans= 61728.0\n",
      "low=1 0 high= 61728.0 ans= 30864.0\n",
      "low=1 0 high= 30864.0 ans= 15432.0\n",
      "low=1 0 high= 15432.0 ans= 7716.0\n",
      "low=1 0 high= 7716.0 ans= 3858.0\n",
      "low=1 0 high= 3858.0 ans= 1929.0\n",
      "low=1 0 high= 1929.0 ans= 964.5\n",
      "low=1 0 high= 964.5 ans= 482.25\n",
      "low=1 0 high= 482.25 ans= 241.125\n",
      "low=1 241.125 high= 482.25 ans= 361.6875\n",
      "low=1 241.125 high= 361.6875 ans= 301.40625\n",
      "low=1 301.40625 high= 361.6875 ans= 331.546875\n",
      "low=1 331.546875 high= 361.6875 ans= 346.6171875\n",
      "low=1 346.6171875 high= 361.6875 ans= 354.15234375\n",
      "low=1 346.6171875 high= 354.15234375 ans= 350.384765625\n",
      "low=1 350.384765625 high= 354.15234375 ans= 352.2685546875\n",
      "low=1 350.384765625 high= 352.2685546875 ans= 351.32666015625\n",
      "low=1 351.32666015625 high= 352.2685546875 ans= 351.797607421875\n",
      "low=1 351.32666015625 high= 351.797607421875 ans= 351.5621337890625\n",
      "low=1 351.32666015625 high= 351.5621337890625 ans= 351.44439697265625\n",
      "low=1 351.32666015625 high= 351.44439697265625 ans= 351.3855285644531\n",
      "low=1 351.32666015625 high= 351.3855285644531 ans= 351.35609436035156\n",
      "low=1 351.35609436035156 high= 351.3855285644531 ans= 351.37081146240234\n",
      "low=1 351.35609436035156 high= 351.37081146240234 ans= 351.36345291137695\n",
      "low=1 351.35609436035156 high= 351.36345291137695 ans= 351.35977363586426\n",
      "low=1 351.35977363586426 high= 351.36345291137695 ans= 351.3616132736206\n",
      "low=1 351.3616132736206 high= 351.36345291137695 ans= 351.3625330924988\n",
      "low=1 351.3625330924988 high= 351.36345291137695 ans= 351.36299300193787\n",
      "low=1 351.36299300193787 high= 351.36345291137695 ans= 351.3632229566574\n",
      "low=1 351.36299300193787 high= 351.3632229566574 ans= 351.36310797929764\n",
      "number of guesses= 30\n",
      "351.36305049061775 is close to the sqrt of 123456\n"
     ]
    }
   ],
   "source": [
    "num=123456\n",
    "epsilon= 0.01\n",
    "num_guesses, low=0,0\n",
    "high=max(1, num)\n",
    "ans= (high + low)/2\n",
    "while abs(ans**2 - num)>= epsilon:\n",
    "    print(\"low=1\",low,  \"high=\", high, \"ans=\" ,ans)\n",
    "    num_guesses +=1\n",
    "    if ans**2 < num:\n",
    "        low =ans\n",
    "    else:\n",
    "        high=ans\n",
    "    ans=(high+low)/2\n",
    "print(\"number of guesses=\", num_guesses)\n",
    "print(ans, \"is close to the sqrt of\" , num)\n"
   ]
  },
  {
   "cell_type": "markdown",
   "id": "2a334cf7",
   "metadata": {},
   "source": [
    "## Hand plot a graph of number of digits in the number  "
   ]
  },
  {
   "cell_type": "code",
   "execution_count": 12,
   "id": "3b91b27a",
   "metadata": {},
   "outputs": [
    {
     "name": "stdout",
     "output_type": "stream",
     "text": [
      "6.0224655176487545 is close to the log base 2 of 65\n"
     ]
    }
   ],
   "source": [
    "epsilon=0.01\n",
    "num=65\n",
    "lower_bound=0\n",
    "\n",
    "while 2**lower_bound<x:\n",
    "    lower_bound+= 1\n",
    "low =lower_bound-1\n",
    "high+lower_bound+1\n",
    "ans=(high+low)/2\n",
    "while abs(2**ans - num) >= epsilon:\n",
    "    if  2**ans < num:\n",
    "        low=ans\n",
    "    else:\n",
    "        high=ans\n",
    "    ans=(low+high)/2\n",
    "print(ans,\"is close to the log base 2 of\", num)\n"
   ]
  },
  {
   "cell_type": "markdown",
   "id": "7a2b4a21",
   "metadata": {},
   "source": [
    "## Newton Raphson"
   ]
  },
  {
   "cell_type": "code",
   "execution_count": 15,
   "id": "20b60a4e",
   "metadata": {},
   "outputs": [
    {
     "name": "stdout",
     "output_type": "stream",
     "text": [
      "sqrt of 24 is about 4.8989887432139305\n"
     ]
    }
   ],
   "source": [
    "k=24\n",
    "epsilon=0.01\n",
    "guess=k/2\n",
    "while abs(guess**2-k)>= epsilon:\n",
    "    guess=guess-((guess**2)-k)/(2*guess)\n",
    "print(\"sqrt of\",k,\"is about\", guess)\n"
   ]
  },
  {
   "cell_type": "markdown",
   "id": "66b685df",
   "metadata": {},
   "source": [
    "# #Ayobami's linkedIn Profile ;https://www.linkedin.com/in/ayobami-oyewole-9827b2273?lipi=urn%3Ali%3Apage%3Ad_flagship3_profile_view_base_contact_details%3BXhzKMqRgQbylWA%2BOwtCGjw%3D%3D"
   ]
  },
  {
   "cell_type": "code",
   "execution_count": null,
   "id": "6f74c76a",
   "metadata": {},
   "outputs": [],
   "source": []
  }
 ],
 "metadata": {
  "kernelspec": {
   "display_name": "Python 3 (ipykernel)",
   "language": "python",
   "name": "python3"
  },
  "language_info": {
   "codemirror_mode": {
    "name": "ipython",
    "version": 3
   },
   "file_extension": ".py",
   "mimetype": "text/x-python",
   "name": "python",
   "nbconvert_exporter": "python",
   "pygments_lexer": "ipython3",
   "version": "3.10.9"
  }
 },
 "nbformat": 4,
 "nbformat_minor": 5
}
